{
  "nbformat": 4,
  "nbformat_minor": 0,
  "metadata": {
    "colab": {
      "provenance": [],
      "gpuType": "V28",
      "authorship_tag": "ABX9TyMdXwRaiZv948VtjleRxzWe",
      "include_colab_link": true
    },
    "kernelspec": {
      "name": "python3",
      "display_name": "Python 3"
    },
    "language_info": {
      "name": "python"
    },
    "accelerator": "TPU"
  },
  "cells": [
    {
      "cell_type": "markdown",
      "metadata": {
        "id": "view-in-github",
        "colab_type": "text"
      },
      "source": [
        "<a href=\"https://colab.research.google.com/github/aimtyaem/RA-Space-exploration/blob/master/SolarSystem.ipynb\" target=\"_parent\"><img src=\"https://colab.research.google.com/assets/colab-badge.svg\" alt=\"Open In Colab\"/></a>"
      ]
    },
    {
      "cell_type": "code",
      "execution_count": 1,
      "metadata": {
        "colab": {
          "base_uri": "https://localhost:8080/"
        },
        "id": "Jijq1HgcDohB",
        "outputId": "bf702cd3-b1ff-4a21-c93b-ee1046c0c226"
      },
      "outputs": [
        {
          "output_type": "stream",
          "name": "stdout",
          "text": [
            "Collecting ursina\n",
            "  Downloading ursina-7.0.0-py3-none-any.whl.metadata (4.9 kB)\n",
            "Requirement already satisfied: pygame in /usr/local/lib/python3.11/dist-packages (2.6.1)\n",
            "Collecting panda3d\n",
            "  Downloading panda3d-1.10.15-cp311-cp311-manylinux2014_x86_64.whl.metadata (3.3 kB)\n",
            "Collecting panda3d-gltf (from ursina)\n",
            "  Downloading panda3d_gltf-1.2.1-py3-none-any.whl.metadata (4.1 kB)\n",
            "Requirement already satisfied: pillow in /usr/local/lib/python3.11/dist-packages (from ursina) (11.1.0)\n",
            "Collecting pyperclip (from ursina)\n",
            "  Downloading pyperclip-1.9.0.tar.gz (20 kB)\n",
            "  Preparing metadata (setup.py) ... \u001b[?25l\u001b[?25hdone\n",
            "Collecting screeninfo (from ursina)\n",
            "  Downloading screeninfo-0.8.1-py3-none-any.whl.metadata (2.9 kB)\n",
            "Collecting panda3d-simplepbr>=0.6 (from panda3d-gltf->ursina)\n",
            "  Downloading panda3d_simplepbr-0.12.0-py3-none-any.whl.metadata (5.3 kB)\n",
            "Requirement already satisfied: typing-extensions~=4.7 in /usr/local/lib/python3.11/dist-packages (from panda3d-simplepbr>=0.6->panda3d-gltf->ursina) (4.12.2)\n",
            "Downloading ursina-7.0.0-py3-none-any.whl (3.1 MB)\n",
            "\u001b[2K   \u001b[90m━━━━━━━━━━━━━━━━━━━━━━━━━━━━━━━━━━━━━━━━\u001b[0m \u001b[32m3.1/3.1 MB\u001b[0m \u001b[31m29.9 MB/s\u001b[0m eta \u001b[36m0:00:00\u001b[0m\n",
            "\u001b[?25hDownloading panda3d-1.10.15-cp311-cp311-manylinux2014_x86_64.whl (54.1 MB)\n",
            "\u001b[2K   \u001b[90m━━━━━━━━━━━━━━━━━━━━━━━━━━━━━━━━━━━━━━━━\u001b[0m \u001b[32m54.1/54.1 MB\u001b[0m \u001b[31m22.2 MB/s\u001b[0m eta \u001b[36m0:00:00\u001b[0m\n",
            "\u001b[?25hDownloading panda3d_gltf-1.2.1-py3-none-any.whl (27 kB)\n",
            "Downloading screeninfo-0.8.1-py3-none-any.whl (12 kB)\n",
            "Downloading panda3d_simplepbr-0.12.0-py3-none-any.whl (2.5 MB)\n",
            "\u001b[2K   \u001b[90m━━━━━━━━━━━━━━━━━━━━━━━━━━━━━━━━━━━━━━━━\u001b[0m \u001b[32m2.5/2.5 MB\u001b[0m \u001b[31m76.4 MB/s\u001b[0m eta \u001b[36m0:00:00\u001b[0m\n",
            "\u001b[?25hBuilding wheels for collected packages: pyperclip\n",
            "  Building wheel for pyperclip (setup.py) ... \u001b[?25l\u001b[?25hdone\n",
            "  Created wheel for pyperclip: filename=pyperclip-1.9.0-py3-none-any.whl size=11003 sha256=294b210b02f19feb2566d01e803f642ac3653b76673b85a19175c360ec163c0e\n",
            "  Stored in directory: /root/.cache/pip/wheels/e8/e7/56/591cb88ba1783b38c40d584026e766aac9c3a048e34128ce8b\n",
            "Successfully built pyperclip\n",
            "Installing collected packages: pyperclip, panda3d, screeninfo, panda3d-simplepbr, panda3d-gltf, ursina\n",
            "Successfully installed panda3d-1.10.15 panda3d-gltf-1.2.1 panda3d-simplepbr-0.12.0 pyperclip-1.9.0 screeninfo-0.8.1 ursina-7.0.0\n"
          ]
        }
      ],
      "source": [
        "!pip install ursina pygame panda3d\n",
        "class SolarSystem:\n",
        "    def __init__(self):\n",
        "        self.sun = None  # Should be a Transform-like object\n",
        "        self.planets = []  # List of Transform-like objects\n",
        "        self.distances = []\n",
        "        self.speeds = []\n",
        "\n",
        "    def update(self, delta_time):\n",
        "        for i in range(len(self.planets)):\n",
        "            planet = self.planets[i]\n",
        "            speed = self.speeds[i]\n",
        "            distance = self.distances[i]\n",
        "\n",
        "            # Rotate the planet around the sun\n",
        "            planet.rotate_around(\n",
        "                self.sun.position,\n",
        "                Vector3.up,\n",
        "                speed * delta_time\n",
        "            )\n",
        "\n",
        "            # Calculate desired orbital position\n",
        "            direction = (planet.position - self.sun.position).normalized()\n",
        "            desired_position = self.sun.position + direction * distance\n",
        "\n",
        "            # Adjust position to maintain orbital distance\n",
        "            planet.position = Vector3.move_towards(\n",
        "                planet.position,\n",
        "                desired_position,\n",
        "                speed * delta_time\n",
        "            )\n",
        "\n",
        "\n",
        "# Example Vector3 and Transform classes for reference\n",
        "class Vector3:\n",
        "    up = (0, 1, 0)\n",
        "\n",
        "    @staticmethod\n",
        "    def move_towards(current, target, max_distance):\n",
        "        # Implementation of vector movement logic\n",
        "        direction = target - current\n",
        "        distance = direction.magnitude()\n",
        "        if distance <= max_distance or distance == 0:\n",
        "            return target\n",
        "        return current + direction / distance * max_distance\n",
        "\n",
        "\n",
        "class Transform:\n",
        "    def __init__(self):\n",
        "        self.position = Vector3()\n",
        "\n",
        "    def rotate_around(self, point, axis, angle):\n",
        "        # Implementation of rotation logic around a point\n",
        "        pass"
      ]
    },
    {
      "cell_type": "code",
      "source": [
        "!apt-get install -y x11-apps\n",
        "!apt-get install -y xvfb\n",
        "!pip install pyvirtualdisplay"
      ],
      "metadata": {
        "colab": {
          "base_uri": "https://localhost:8080/"
        },
        "id": "Kcp8R6n5EYWn",
        "outputId": "59b82b04-c00a-4d66-9ecb-b6aed8f30269"
      },
      "execution_count": 6,
      "outputs": [
        {
          "output_type": "stream",
          "name": "stdout",
          "text": [
            "Reading package lists... Done\n",
            "Building dependency tree... Done\n",
            "Reading state information... Done\n",
            "x11-apps is already the newest version (7.7+8build2).\n",
            "0 upgraded, 0 newly installed, 0 to remove and 5 not upgraded.\n",
            "Reading package lists... Done\n",
            "Building dependency tree... Done\n",
            "Reading state information... Done\n",
            "The following additional packages will be installed:\n",
            "  libfontenc1 libxfont2 x11-xkb-utils xfonts-base xfonts-encodings xfonts-utils xserver-common\n",
            "The following NEW packages will be installed:\n",
            "  libfontenc1 libxfont2 x11-xkb-utils xfonts-base xfonts-encodings xfonts-utils xserver-common xvfb\n",
            "0 upgraded, 8 newly installed, 0 to remove and 5 not upgraded.\n",
            "Need to get 7,742 kB of archives.\n",
            "After this operation, 11.8 MB of additional disk space will be used.\n",
            "Get:1 http://archive.ubuntu.com/ubuntu jammy/main amd64 libfontenc1 amd64 1:1.1.4-1build3 [14.7 kB]\n",
            "Get:2 http://archive.ubuntu.com/ubuntu jammy/main amd64 libxfont2 amd64 1:2.0.5-1build1 [94.5 kB]\n",
            "Get:3 http://archive.ubuntu.com/ubuntu jammy/main amd64 x11-xkb-utils amd64 7.7+5build4 [172 kB]\n",
            "Get:4 http://archive.ubuntu.com/ubuntu jammy/main amd64 xfonts-encodings all 1:1.0.5-0ubuntu2 [578 kB]\n",
            "Get:5 http://archive.ubuntu.com/ubuntu jammy/main amd64 xfonts-utils amd64 1:7.7+6build2 [94.6 kB]\n",
            "Get:6 http://archive.ubuntu.com/ubuntu jammy/main amd64 xfonts-base all 1:1.0.5 [5,896 kB]\n",
            "Get:7 http://archive.ubuntu.com/ubuntu jammy-updates/main amd64 xserver-common all 2:21.1.4-2ubuntu1.7~22.04.13 [29.1 kB]\n",
            "Get:8 http://archive.ubuntu.com/ubuntu jammy-updates/universe amd64 xvfb amd64 2:21.1.4-2ubuntu1.7~22.04.13 [863 kB]\n",
            "Fetched 7,742 kB in 1s (5,459 kB/s)\n",
            "Selecting previously unselected package libfontenc1:amd64.\n",
            "(Reading database ... 120997 files and directories currently installed.)\n",
            "Preparing to unpack .../0-libfontenc1_1%3a1.1.4-1build3_amd64.deb ...\n",
            "Unpacking libfontenc1:amd64 (1:1.1.4-1build3) ...\n",
            "Selecting previously unselected package libxfont2:amd64.\n",
            "Preparing to unpack .../1-libxfont2_1%3a2.0.5-1build1_amd64.deb ...\n",
            "Unpacking libxfont2:amd64 (1:2.0.5-1build1) ...\n",
            "Selecting previously unselected package x11-xkb-utils.\n",
            "Preparing to unpack .../2-x11-xkb-utils_7.7+5build4_amd64.deb ...\n",
            "Unpacking x11-xkb-utils (7.7+5build4) ...\n",
            "Selecting previously unselected package xfonts-encodings.\n",
            "Preparing to unpack .../3-xfonts-encodings_1%3a1.0.5-0ubuntu2_all.deb ...\n",
            "Unpacking xfonts-encodings (1:1.0.5-0ubuntu2) ...\n",
            "Selecting previously unselected package xfonts-utils.\n",
            "Preparing to unpack .../4-xfonts-utils_1%3a7.7+6build2_amd64.deb ...\n",
            "Unpacking xfonts-utils (1:7.7+6build2) ...\n",
            "Selecting previously unselected package xfonts-base.\n",
            "Preparing to unpack .../5-xfonts-base_1%3a1.0.5_all.deb ...\n",
            "Unpacking xfonts-base (1:1.0.5) ...\n",
            "Selecting previously unselected package xserver-common.\n",
            "Preparing to unpack .../6-xserver-common_2%3a21.1.4-2ubuntu1.7~22.04.13_all.deb ...\n",
            "Unpacking xserver-common (2:21.1.4-2ubuntu1.7~22.04.13) ...\n",
            "Selecting previously unselected package xvfb.\n",
            "Preparing to unpack .../7-xvfb_2%3a21.1.4-2ubuntu1.7~22.04.13_amd64.deb ...\n",
            "Unpacking xvfb (2:21.1.4-2ubuntu1.7~22.04.13) ...\n",
            "Setting up x11-xkb-utils (7.7+5build4) ...\n",
            "Setting up libfontenc1:amd64 (1:1.1.4-1build3) ...\n",
            "Setting up xfonts-encodings (1:1.0.5-0ubuntu2) ...\n",
            "Setting up xserver-common (2:21.1.4-2ubuntu1.7~22.04.13) ...\n",
            "Setting up libxfont2:amd64 (1:2.0.5-1build1) ...\n",
            "Setting up xvfb (2:21.1.4-2ubuntu1.7~22.04.13) ...\n",
            "Setting up xfonts-utils (1:7.7+6build2) ...\n",
            "Setting up xfonts-base (1:1.0.5) ...\n",
            "Processing triggers for libc-bin (2.35-0ubuntu3.8) ...\n",
            "Processing triggers for man-db (2.10.2-1) ...\n",
            "Processing triggers for fontconfig (2.13.1-4.2ubuntu5) ...\n",
            "Collecting pyvirtualdisplay\n",
            "  Downloading PyVirtualDisplay-3.0-py3-none-any.whl.metadata (943 bytes)\n",
            "Downloading PyVirtualDisplay-3.0-py3-none-any.whl (15 kB)\n",
            "Installing collected packages: pyvirtualdisplay\n",
            "Successfully installed pyvirtualdisplay-3.0\n"
          ]
        }
      ]
    },
    {
      "cell_type": "code",
      "source": [
        "\n",
        "from pyvirtualdisplay import Display\n",
        "\n",
        "# Start a virtual display\n",
        "display = Display(visible=0, size=(800, 600))\n",
        "display.start()"
      ],
      "metadata": {
        "colab": {
          "base_uri": "https://localhost:8080/"
        },
        "id": "92xHKZrkGkAd",
        "outputId": "9e847bb3-55ef-43de-e78e-b87ee35ea025"
      },
      "execution_count": 7,
      "outputs": [
        {
          "output_type": "execute_result",
          "data": {
            "text/plain": [
              "<pyvirtualdisplay.display.Display at 0x7de618153850>"
            ]
          },
          "metadata": {},
          "execution_count": 7
        }
      ]
    },
    {
      "cell_type": "code",
      "source": [
        "\n",
        "from ursina import *\n",
        "from math import radians\n",
        "\n",
        "class SolarSystem(Entity):\n",
        "    def __init__(self):\n",
        "        super().__init__()\n",
        "\n",
        "        # Create sun\n",
        "        self.sun = Entity(\n",
        "            model='sphere',\n",
        "            color=color.yellow,\n",
        "            scale=2\n",
        "        )\n",
        "\n",
        "        # Planet configuration (distance from sun, speed, color, scale)\n",
        "        self.planets_data = [\n",
        "            (5, 1.0, color.blue, 0.8),\n",
        "            (8, 0.7, color.red, 0.6),\n",
        "            (12, 0.4, color.green, 1.0),\n",
        "            (16, 0.2, color.orange, 0.7)\n",
        "        ]\n",
        "\n",
        "        self.planets = []\n",
        "        self.angles = []\n",
        "\n",
        "        # Initialize planets and angles\n",
        "        for distance, speed, clr, scale in self.planets_data:\n",
        "            planet = Entity(\n",
        "                model='sphere',\n",
        "                color=clr,\n",
        "                scale=scale,\n",
        "                position=(distance, 0, 0)\n",
        "            )\n",
        "            self.planets.append(planet)\n",
        "            self.angles.append(0)\n",
        "\n",
        "        self.speeds = [data[1] for data in self.planets_data]\n",
        "        self.distances = [data[0] for data in self.planets_data]\n",
        "\n",
        "    def update(self):\n",
        "        for i, planet in enumerate(self.planets):\n",
        "            # Update orbital angle\n",
        "            self.angles[i] += self.speeds[i] * time.dt\n",
        "\n",
        "            # Calculate new position using polar coordinates\n",
        "            planet.x = self.sun.x + math.cos(radians(self.angles[i])) * self.distances[i]\n",
        "            planet.z = self.sun.z + math.sin(radians(self.angles[i])) * self.distances[i]\n",
        "\n",
        "            # Rotate planet around its own axis\n",
        "            planet.rotation_y += self.speeds[i] * 50 * time.dt\n",
        "\n",
        "# Start the Ursina app\n",
        "app = Ursina()\n",
        "\n",
        "# Setup camera\n",
        "camera.position = (0, 40, -50)\n",
        "camera.look_at((0, 0, 0))\n",
        "\n",
        "# Create solar system\n",
        "system = SolarSystem()\n",
        "\n",
        "# Add lighting\n",
        "point_light = PointLight(parent=camera, position=(0, 0, -20))\n",
        "\n",
        "# Run the app\n",
        "app.run()\n",
        "\n",
        "# Stop the virtual display\n",
        "display.stop()"
      ],
      "metadata": {
        "colab": {
          "base_uri": "https://localhost:8080/"
        },
        "id": "mjYwF4YPHjuW",
        "outputId": "ab224335-906a-422b-adaa-d5160770eb11"
      },
      "execution_count": null,
      "outputs": [
        {
          "metadata": {
            "tags": null
          },
          "name": "stdout",
          "output_type": "stream",
          "text": [
            "info: No primary monitor found, using first monitor instead\n",
            "set window position: Vec2(80, 60)\n",
            "package_folder: /usr/local/lib/python3.11/dist-packages/ursina\n",
            "asset_folder: /usr/local/lib/python3.11/dist-packages\n",
            "os: Linux\n",
            "development mode: True\n",
            "application successfully started\n",
            "info: changed aspect ratio: 1.333 -> 1.333\n"
          ]
        }
      ]
    }
  ]
}